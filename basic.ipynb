{
 "cells": [
  {
   "cell_type": "code",
   "execution_count": 1,
   "metadata": {},
   "outputs": [
    {
     "name": "stdout",
     "output_type": "stream",
     "text": [
      "56\n",
      "<class 'str'>\n",
      "56\n",
      "<class 'int'>\n"
     ]
    }
   ],
   "source": [
    "a = '56'\n",
    "print(a)\n",
    "print(type(a))\n",
    "b= int(a)\n",
    "print(b)\n",
    "print(type(b))"
   ]
  },
  {
   "cell_type": "code",
   "execution_count": null,
   "metadata": {},
   "outputs": [
    {
     "name": "stdout",
     "output_type": "stream",
     "text": [
      "not eligible to vote\n"
     ]
    }
   ],
   "source": [
    "# q1 : \n",
    "\n",
    "a = int(input(\"enter the age of the user \"))\n",
    "if(a<18):\n",
    "  print(\"not eligible to vote\")\n",
    "else:\n",
    "  print(\"eligible to vote\")  "
   ]
  },
  {
   "cell_type": "code",
   "execution_count": 4,
   "metadata": {},
   "outputs": [
    {
     "name": "stdout",
     "output_type": "stream",
     "text": [
      "your final price is 91.8\n"
     ]
    }
   ],
   "source": [
    "# q 2:\n",
    "\n",
    "a = int(input(\"enter the total purchase amount\"))\n",
    "if(a<=100):\n",
    "    print(\"your charged amount is \",a)\n",
    "else:\n",
    "    b = a*0.10\n",
    "    c= a-b   \n",
    "    print(\"your final price is\", c) "
   ]
  },
  {
   "cell_type": "code",
   "execution_count": 5,
   "metadata": {},
   "outputs": [
    {
     "name": "stdout",
     "output_type": "stream",
     "text": [
      "you have to pay $10\n"
     ]
    }
   ],
   "source": [
    "a = int(input(\"enter your correct age\"))\n",
    "if(a<12):\n",
    "    print(\"you have to pay $7\")\n",
    "elif(12<=a<60):\n",
    "    print(\"you have to pay $10\")\n",
    "elif(a>60):\n",
    "    print(\"you have to pay $8\")\n",
    "else:\n",
    "    print(\"enter valid age\")\n",
    "                "
   ]
  },
  {
   "cell_type": "code",
   "execution_count": 6,
   "metadata": {},
   "outputs": [
    {
     "name": "stdout",
     "output_type": "stream",
     "text": [
      "you are eligible for loan\n"
     ]
    }
   ],
   "source": [
    "a = int(input(\"enter your income\"))\n",
    "b=int(input(\"enter your credit score\"))\n",
    "if(a>50000 and b>650):\n",
    "    print(\"you are eligible for loan\")\n",
    "else:\n",
    "    print(\"you are not eligible for loan\")    "
   ]
  },
  {
   "cell_type": "code",
   "execution_count": 7,
   "metadata": {},
   "outputs": [
    {
     "name": "stdout",
     "output_type": "stream",
     "text": [
      "you should opt gold membership and it will charge $100 per month\n"
     ]
    }
   ],
   "source": [
    "a = int(input(\"enter the number of days you want to visit gym\"))\n",
    "if(a<=3):\n",
    "    print(\"you should opt broze membership and it will charge $50 per month\")\n",
    "elif(a==5):\n",
    "    print(\"you should opt silver membership and it will charge $70 per month\")  \n",
    "else:\n",
    "    print(\"you should opt gold membership and it will charge $100 per month\")      \n",
    "    "
   ]
  },
  {
   "cell_type": "code",
   "execution_count": 18,
   "metadata": {},
   "outputs": [
    {
     "name": "stdout",
     "output_type": "stream",
     "text": [
      "invalid data\n"
     ]
    }
   ],
   "source": [
    "a = int(input(\"enter the amount \"))\n",
    "b= int(input(\"enter the distance\"))\n",
    "city_distance = c =50\n",
    "if(a>50 and b<=50 ):\n",
    "    print(\"you recievd a free delivery\",a)\n",
    "elif(a>50 and b<50):\n",
    "    d = b-c\n",
    "    e = a+ d*5\n",
    "    print(\"you have to pay extra delivery charge  \",e)\n",
    "else:\n",
    "    print(\"invalid data\")    \n",
    "       \n"
   ]
  },
  {
   "cell_type": "code",
   "execution_count": 19,
   "metadata": {},
   "outputs": [
    {
     "name": "stdout",
     "output_type": "stream",
     "text": [
      "outside of the city delivery charges is greater then 50: 575\n"
     ]
    }
   ],
   "source": [
    "a = int(input(\"enter the amount\"))\n",
    "b = int(input(\"enter the distance \"))\n",
    "c = 50\n",
    "\n",
    "if(a>=50 and b>=c):\n",
    "  d = a+b\n",
    "  d = d*5\n",
    "  print(\"outside of the city delivery charges is greater then 50:\",d)\n",
    "else:\n",
    "  print(\"inside of the city no delivery charges apply\")"
   ]
  },
  {
   "cell_type": "code",
   "execution_count": 12,
   "metadata": {},
   "outputs": [
    {
     "name": "stdout",
     "output_type": "stream",
     "text": [
      "you have to pay 17\n"
     ]
    }
   ],
   "source": [
    "a = int(input(\"enter the total hours in parking\"))\n",
    "if(a==2):\n",
    "    print(\"you have pay $5\")\n",
    "elif(a>2):\n",
    "    b= a-2\n",
    "    b= 5+b*3\n",
    "    print(\"you have to pay\",b)    \n",
    "else:\n",
    "    print(\"invalid data\")    "
   ]
  },
  {
   "cell_type": "code",
   "execution_count": 14,
   "metadata": {},
   "outputs": [
    {
     "name": "stdout",
     "output_type": "stream",
     "text": [
      "you have to pay 40.2\n"
     ]
    }
   ],
   "source": [
    "#q 8\n",
    "\n",
    "a =int(input(\"enter the total units\"))\n",
    "if(a<=100):\n",
    "    b= a*0.10\n",
    "    print(\"you have to pay\",b)\n",
    "elif(100<a<=200):\n",
    "    c=a*0.15\n",
    "    print(\"you have to pay\",c)   \n",
    "elif(a>200):\n",
    "    d= a*0.20\n",
    "    print(\"you have to pay\",d)\n",
    "else:\n",
    "    print(\"invalid data\")         "
   ]
  },
  {
   "cell_type": "code",
   "execution_count": null,
   "metadata": {},
   "outputs": [
    {
     "name": "stdout",
     "output_type": "stream",
     "text": [
      "1\n",
      "3\n",
      "5\n",
      "7\n"
     ]
    }
   ],
   "source": [
    "# method 1\n",
    "for i in range(1,8,2):\n",
    "    print(i)"
   ]
  },
  {
   "cell_type": "code",
   "execution_count": 22,
   "metadata": {},
   "outputs": [
    {
     "name": "stdout",
     "output_type": "stream",
     "text": [
      "p\n",
      "y\n",
      "t\n",
      "h\n",
      "o\n",
      "n\n"
     ]
    },
    {
     "data": {
      "text/plain": [
       "6"
      ]
     },
     "execution_count": 22,
     "metadata": {},
     "output_type": "execute_result"
    }
   ],
   "source": [
    "# method 2\n",
    "\n",
    "a = \"python\"\n",
    "for i in a :\n",
    "    print(i)\n",
    "len(a)    "
   ]
  },
  {
   "cell_type": "code",
   "execution_count": 23,
   "metadata": {},
   "outputs": [
    {
     "name": "stdout",
     "output_type": "stream",
     "text": [
      "p\n",
      "y\n",
      "t\n",
      "h\n",
      "o\n",
      "n\n"
     ]
    }
   ],
   "source": [
    "for i in range(len(a)):\n",
    "    print(a[i])"
   ]
  },
  {
   "cell_type": "code",
   "execution_count": 25,
   "metadata": {},
   "outputs": [
    {
     "name": "stdout",
     "output_type": "stream",
     "text": [
      "*\n",
      "**\n",
      "***\n",
      "****\n",
      "*****\n"
     ]
    }
   ],
   "source": [
    "for i in range(1,6):\n",
    "    print(i*\"*\")"
   ]
  },
  {
   "cell_type": "code",
   "execution_count": 27,
   "metadata": {},
   "outputs": [
    {
     "name": "stdout",
     "output_type": "stream",
     "text": [
      "i= 0 j=  0\n",
      "i= 0 j=  1\n",
      "i= 1 j=  0\n",
      "i= 1 j=  1\n",
      "i= 2 j=  0\n",
      "i= 2 j=  1\n"
     ]
    }
   ],
   "source": [
    "# nested for loop\n",
    "\n",
    "for i in range(3):\n",
    "    for j in range(2):\n",
    "        print(\"i=\",i,\"j= \",j)"
   ]
  },
  {
   "cell_type": "code",
   "execution_count": 30,
   "metadata": {},
   "outputs": [
    {
     "name": "stdout",
     "output_type": "stream",
     "text": [
      "*\n",
      "**\n",
      "* *\n",
      "*  *\n",
      "*****\n"
     ]
    }
   ],
   "source": [
    "n= 5\n",
    "for i in range (1, n+1):\n",
    "    if i ==1 or i ==n:\n",
    "        print(\"*\"*i)\n",
    "    else:\n",
    "        print(\"*\"+\" \"*(i-2)+\"*\")    "
   ]
  },
  {
   "cell_type": "code",
   "execution_count": 34,
   "metadata": {},
   "outputs": [
    {
     "name": "stdout",
     "output_type": "stream",
     "text": [
      "******\n",
      "*****\n",
      "****\n",
      "***\n",
      "**\n",
      "*\n"
     ]
    }
   ],
   "source": [
    "for i in range(6,0,-1):\n",
    "    print(\"*\"*i)"
   ]
  },
  {
   "cell_type": "code",
   "execution_count": null,
   "metadata": {},
   "outputs": [],
   "source": [
    "# question \n",
    "\n",
    "# step -1 (i=1,n=4,sum=0)\n",
    "i =1\n",
    "n=4\n",
    "sum =0\n",
    "while(i<=4):\n",
    "    sum =0 +1 =1\n",
    "\n",
    "    "
   ]
  },
  {
   "cell_type": "code",
   "execution_count": null,
   "metadata": {},
   "outputs": [],
   "source": [
    "a =1234\n",
    "even =0\n",
    "odd =0\n",
    "while(i>0):\n",
    "    d= i%10\n",
    "    if(d%2==0):\n",
    "        even = even +d\n",
    "    else:\n",
    "        odd = odd+d \n",
    "        i =i //10\n",
    "print(\"total even =\",even )           "
   ]
  },
  {
   "cell_type": "code",
   "execution_count": 36,
   "metadata": {},
   "outputs": [
    {
     "name": "stdout",
     "output_type": "stream",
     "text": [
      "\n",
      "Passenger List:\n",
      "1. jgfhh\n"
     ]
    }
   ],
   "source": [
    "# Input flight capacity\n",
    "max_capacity = int(input(\"Enter the maximum capacity of the flight: \"))\n",
    "passenger_list = []\n",
    "\n",
    "while len(passenger_list) < max_capacity:\n",
    "    # Input passenger details\n",
    "    name = input(\"Enter passenger name: \")\n",
    "    passenger_list.append(name)\n",
    "    \n",
    "    # Check if the flight is full\n",
    "    if len(passenger_list) == max_capacity:\n",
    "        print(\"Flight full. No more passengers can be added.\")\n",
    "        break\n",
    "    \n",
    "    # Ask if there are more passengers\n",
    "    more = input(\"Add another passenger? (yes/no): \").strip().lower()\n",
    "    if more != \"yes\":\n",
    "        break\n",
    "\n",
    "# Display the final passenger list\n",
    "print(\"\\nPassenger List:\")\n",
    "for idx, name in enumerate(passenger_list, start=1):\n",
    "    print(f\"{idx}. {name}\")\n"
   ]
  },
  {
   "cell_type": "code",
   "execution_count": 37,
   "metadata": {},
   "outputs": [
    {
     "name": "stdout",
     "output_type": "stream",
     "text": [
      "Airline Reservation system\n"
     ]
    }
   ],
   "source": [
    "print(\"Airline Reservation system\")\n",
    "n=2\n",
    "for i in range(n):\n",
    "    Name = input(\"Name:\")\n",
    "    Age = int(input(\"age :\"))\n",
    "    gender = input(\"Gender:\")\n",
    "\n"
   ]
  }
 ],
 "metadata": {
  "kernelspec": {
   "display_name": ".venv",
   "language": "python",
   "name": "python3"
  },
  "language_info": {
   "codemirror_mode": {
    "name": "ipython",
    "version": 3
   },
   "file_extension": ".py",
   "mimetype": "text/x-python",
   "name": "python",
   "nbconvert_exporter": "python",
   "pygments_lexer": "ipython3",
   "version": "3.12.3"
  }
 },
 "nbformat": 4,
 "nbformat_minor": 2
}
